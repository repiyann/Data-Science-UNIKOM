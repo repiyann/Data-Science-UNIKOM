{
  "nbformat": 4,
  "nbformat_minor": 0,
  "metadata": {
    "colab": {
      "provenance": []
    },
    "kernelspec": {
      "name": "python3",
      "display_name": "Python 3"
    },
    "language_info": {
      "name": "python"
    }
  },
  "cells": [
    {
      "cell_type": "code",
      "execution_count": null,
      "metadata": {
        "colab": {
          "base_uri": "https://localhost:8080/"
        },
        "id": "b7cIUzFHN0RM",
        "outputId": "0564d213-97f6-4ad0-ca2b-6cf703056083"
      },
      "outputs": [
        {
          "output_type": "stream",
          "name": "stdout",
          "text": [
            "+----+------+----------------------------------+-----------------------------------+\n",
            "| i  | Zi-1 |                Zi                |                 Ui                |\n",
            "+----+------+----------------------------------+-----------------------------------+\n",
            "| 1  |  42  | Zi = (73 * 42  + 19) mod 97 = 78 | Ui = 78 / 97 = 0.8041237113402062 |\n",
            "| 2  |  78  | Zi = (73 * 78  + 19) mod 97 = 87 | Ui = 87 / 97 = 0.8969072164948454 |\n",
            "| 3  |  87  | Zi = (73 * 87  + 19) mod 97 = 65 | Ui = 65 / 97 = 0.6701030927835051 |\n",
            "| 4  |  65  | Zi = (73 * 65  + 19) mod 97 = 11 | Ui = 11 / 97 = 0.1134020618556701 |\n",
            "| 5  |  11  | Zi = (73 * 11  + 19) mod 97 = 46 | Ui = 46 / 97 = 0.4742268041237113 |\n",
            "| 6  |  46  | Zi = (73 * 46  + 19) mod 97 = 79 | Ui = 79 / 97 = 0.8144329896907216 |\n",
            "| 7  |  79  | Zi = (73 * 79  + 19) mod 97 = 63 | Ui = 63 / 97 = 0.6494845360824743 |\n",
            "| 8  |  63  | Zi = (73 * 63  + 19) mod 97 = 59 | Ui = 59 / 97 = 0.6082474226804123 |\n",
            "| 9  |  59  | Zi = (73 * 59  + 19) mod 97 = 58 | Ui = 58 / 97 = 0.5979381443298969 |\n",
            "| 10 |  58  | Zi = (73 * 58  + 19) mod 97 = 82 |  Ui = 82 / 97 = 0.845360824742268 |\n",
            "+----+------+----------------------------------+-----------------------------------+\n"
          ]
        }
      ],
      "source": [
        "from prettytable import PrettyTable\n",
        "\n",
        "def LCG(a, m, c, z0):\n",
        "  while True:\n",
        "    z0 = (a * z0 + c) % m\n",
        "    yield z0 / m\n",
        "\n",
        "def main():\n",
        "  a = 73\n",
        "  m = 97\n",
        "  c = 19\n",
        "  z0 = 42\n",
        "  generator = LCG(a, m, c, z0)\n",
        "  list = [10]\n",
        "  table = PrettyTable(['i', 'Zi-1', 'Zi', 'Ui'])\n",
        "  z_prev = z0\n",
        "  for i in range(10):\n",
        "    z_curr = (a * z_prev + c) % m\n",
        "    zi = f'Zi = ({a} * {z_prev}  + {c}) mod {m} = {z_curr}'\n",
        "    ui = f'Ui = {z_curr} / {m} = {next(generator)}'\n",
        "    list.append(z_prev)\n",
        "    table.add_row([i+1, z_prev, zi, ui])\n",
        "    z_prev = z_curr\n",
        "  print(table)\n",
        "\n",
        "if __name__ == \"__main__\":\n",
        "  main()"
      ]
    },
    {
      "cell_type": "code",
      "source": [
        "import numpy as np\n",
        "import pandas as pd\n",
        "import math\n",
        "\n",
        "def LCG(a, m, c, z0):\n",
        "  while True:\n",
        "    z0 = (a * z0 + c) % m\n",
        "    yield z0 / m\n",
        "\n",
        "def appendDictToDF(df,dictToAppend):\n",
        "  df1 = pd.concat([df, pd.DataFrame.from_records([dictToAppend])])\n",
        "  return df1\n",
        "\n",
        "def main():\n",
        "  list_of_data = [5, 15, 15, 11, 14, 3, 10, 15, 8, 14, 8, 12, 12, 16, 15, 1, 21, 9, 12, 16, 7, 11, 12, 30, 0,\n",
        "                1, 14, 11, 15, 8, 9, 23, 10, 15, 15, 7, 13, 8, 22, 7, 10, 9, 13, 21, 10, 14, 11, 20, 15, 3]\n",
        "  df = pd.Series(list_of_data).value_counts(bins= [0, 6, 12, 18, 24, 30]).reset_index().sort_values('index').reset_index(drop=True)\n",
        "  df.columns = ['Antar Kedatangan', 'Frekuensi']\n",
        "  df['CM'] = [3, 9, 15, 21, 27]\n",
        "  df['μ'] = np.average(df['CM'], weights=df['Frekuensi'])\n",
        "  df['σ'] = np.sqrt(np.average((df['CM']-df['μ'])**2,weights=df['Frekuensi']))\n",
        "  a = 10; m = 121; c = 192; z0 = 10121194\n",
        "  generator = LCG(a, m, c, z0)\n",
        "  list = []\n",
        "  df1 = pd.DataFrame(columns=['i','Zi-1','Zi','Ui'])\n",
        "  z_prev = z0; u_prev = next(generator)\n",
        "  for i in range(51):\n",
        "    z_curr = (a * z_prev + c) % m\n",
        "    ui = next(generator)\n",
        "    list.append(z_prev)\n",
        "    df1 = appendDictToDF(df1,{ 'i' : i+1, 'Zi-1': z_prev, 'Zi': z_curr, 'Ui+1': ui , 'Ui': u_prev})\n",
        "    u_prev = ui; z_prev = z_curr\n",
        "  for j in range(51):\n",
        "    R = np.sqrt(-2 * np.log(df1['Ui']))\n",
        "    Theta = 2 * np.pi * df1['Ui+1']\n",
        "    X = R * np.cos(Theta)\n",
        "    result = df['μ'] + df['σ'] * X\n",
        "    df2 = pd.DataFrame(data=result).reset_index().drop(columns='index').dropna()\n",
        "    df2.columns = ['Hasil']\n",
        "  print(df2)\n",
        "\n",
        "if __name__ == \"__main__\":\n",
        "  main()"
      ],
      "metadata": {
        "id": "e0Rf2w2aqV6i"
      },
      "execution_count": null,
      "outputs": []
    },
    {
      "cell_type": "code",
      "source": [
        "from prettytable import PrettyTable\n",
        "\n",
        "def MRNG(a, m, z0):\n",
        "  while True:\n",
        "    z0 = (a * z0) % m\n",
        "    yield z0 / m\n",
        "\n",
        "def main():\n",
        "  a = 13\n",
        "  m = 1537\n",
        "  z0 = 1192\n",
        "  generator = MRNG(a, m, z0)\n",
        "  list = []\n",
        "  table = PrettyTable(['i', 'Zi-1', 'Zi', 'Ui'])\n",
        "  z_prev = z0\n",
        "  for i in range(6):\n",
        "    z_curr = (a * z_prev) % m\n",
        "    zi = f'Zi = ({a} * {z_prev}) mod {m} = {z_curr}'\n",
        "    ui = f'Ui = {z_curr} / {m} = {next(generator)}'\n",
        "    list.append(z_prev)\n",
        "    table.add_row([i+1, z_prev, zi, ui])\n",
        "    z_prev = z_curr\n",
        "  print(table)\n",
        "\n",
        "if __name__ == \"__main__\":\n",
        "    main()"
      ],
      "metadata": {
        "colab": {
          "base_uri": "https://localhost:8080/"
        },
        "id": "rA45DUY2N3ML",
        "outputId": "bdf75d1f-4dab-494f-88ce-c6d4058d89c5"
      },
      "execution_count": null,
      "outputs": [
        {
          "output_type": "stream",
          "name": "stdout",
          "text": [
            "+---+------+---------------------------------+---------------------------------------+\n",
            "| i | Zi-1 |                Zi               |                   Ui                  |\n",
            "+---+------+---------------------------------+---------------------------------------+\n",
            "| 1 | 1192 | Zi = (13 * 1192) mod 1537 = 126 | Ui = 126 / 1537 = 0.08197787898503578 |\n",
            "| 2 | 126  |  Zi = (13 * 126) mod 1537 = 101 | Ui = 101 / 1537 = 0.06571242680546518 |\n",
            "| 3 | 101  | Zi = (13 * 101) mod 1537 = 1313 | Ui = 1313 / 1537 = 0.8542615484710475 |\n",
            "| 4 | 1313 | Zi = (13 * 1313) mod 1537 = 162 | Ui = 162 / 1537 = 0.10540013012361743 |\n",
            "| 5 | 162  |  Zi = (13 * 162) mod 1537 = 569 | Ui = 569 / 1537 = 0.37020169160702665 |\n",
            "| 6 | 569  | Zi = (13 * 569) mod 1537 = 1249 | Ui = 1249 / 1537 = 0.8126219908913468 |\n",
            "+---+------+---------------------------------+---------------------------------------+\n"
          ]
        }
      ]
    },
    {
      "cell_type": "code",
      "source": [
        "import pandas as pd\n",
        "import numpy as np\n",
        "import matplotlib.pyplot as plt\n",
        "\n",
        "item_dibeli = np.array([4, 2, 2, 2, 1, 4, 2, 3, 2,\n",
        "                             4, 5, 2, 2, 4, 4, 3, 3, 2,\n",
        "                             2, 2, 2, 2, 2, 5, 3, 3, 3,\n",
        "                             1, 2, 4, 4, 4, 1, 3, 3, 3,\n",
        "                             1, 4, 2, 1, 3, 3, 1, 2, 5,\n",
        "                             2, 4, 2, 2, 3, 2, 4, 2, 3,\n",
        "                             4, 4, 5, 2, 5, 2, 2, 4, 3,\n",
        "                             2, 3, 3, 3, 3, 2, 2, 3, 3])\n",
        "interval = np.array(['0-8', '9-46', '47-74', '75-93', '94-100'])\n",
        "\n",
        "df = pd.DataFrame(data=item_dibeli, columns=['Jumlah Item Dibeli']).value_counts().sort_index().reset_index()\n",
        "df.columns = ['Jumlah Item Dibeli', 'Frekuensi']\n",
        "df['Total'] = df['Frekuensi'].sum()\n",
        "df['Probabilitas'] = df['Frekuensi'] / df['Total']\n",
        "df['Probabilitas Kumulutatif'] = df['Probabilitas'].cumsum()\n",
        "df['Probabilitas Kumulutatif x 100'] = df['Probabilitas Kumulutatif'] * 100\n",
        "df['Probabilitas Kumulutatif x 100'] = df['Probabilitas Kumulutatif x 100'].round().astype(int)\n",
        "df['Interval'] = interval.tolist()\n",
        "print(df)"
      ],
      "metadata": {
        "colab": {
          "base_uri": "https://localhost:8080/"
        },
        "id": "X6Y-VmO6Wr6M",
        "outputId": "13afa172-b036-4108-d90b-0682428c0240"
      },
      "execution_count": null,
      "outputs": [
        {
          "output_type": "stream",
          "name": "stdout",
          "text": [
            "   Jumlah Item Dibeli  Frekuensi  Total  Probabilitas  \\\n",
            "0                   1          6     72         0.083   \n",
            "1                   2         27     72         0.375   \n",
            "2                   3         20     72         0.278   \n",
            "3                   4         14     72         0.194   \n",
            "4                   5          5     72         0.069   \n",
            "\n",
            "   Probabilitas Kumulutatif  Probabilitas Kumulutatif x 100 Interval  \n",
            "0                     0.083                               8      0-8  \n",
            "1                     0.458                              46     9-46  \n",
            "2                     0.736                              74    47-74  \n",
            "3                     0.931                              93    75-93  \n",
            "4                     1.000                             100   94-100  \n"
          ]
        }
      ]
    },
    {
      "cell_type": "code",
      "source": [
        "from prettytable import PrettyTable\n",
        "\n",
        "def MRNG(a, m, z0):\n",
        "  while True:\n",
        "    z0 = (a * z0) % m\n",
        "    yield z0 / m\n",
        "\n",
        "def main():\n",
        "  a = 13\n",
        "\n",
        "  m = 1537\n",
        "  z0 = 1192\n",
        "  generator = MRNG(a, m, z0)\n",
        "  list = []\n",
        "\n",
        "  table = PrettyTable(['i', 'Zi-1', 'Zi', 'Ui'])\n",
        "  z_prev = z0\n",
        "  for i in range(10):\n",
        "    z_curr = (a * z_prev) % m\n",
        "    zi = f'Zi = ({a} * {z_prev}) mod {m} = {z_curr}'\n",
        "    ui = f'Ui = {z_curr} / {m} = {next(generator)}'\n",
        "    list.append(z_prev)\n",
        "    table.add_row([i+1, z_prev, zi, ui])\n",
        "    z_prev = z_curr\n",
        "  print(table)\n",
        "\n",
        "if __name__ == \"__main__\":\n",
        "    main()"
      ],
      "metadata": {
        "colab": {
          "base_uri": "https://localhost:8080/"
        },
        "id": "SquCFlZ5YGxk",
        "outputId": "c61f0d34-3301-46de-d179-c821d6bc1be3"
      },
      "execution_count": null,
      "outputs": [
        {
          "output_type": "stream",
          "name": "stdout",
          "text": [
            "+----+------+---------------------------------+---------------------------------------+\n",
            "| i  | Zi-1 |                Zi               |                   Ui                  |\n",
            "+----+------+---------------------------------+---------------------------------------+\n",
            "| 1  | 1192 | Zi = (13 * 1192) mod 1537 = 126 | Ui = 126 / 1537 = 0.08197787898503578 |\n",
            "| 2  | 126  |  Zi = (13 * 126) mod 1537 = 101 | Ui = 101 / 1537 = 0.06571242680546518 |\n",
            "| 3  | 101  | Zi = (13 * 101) mod 1537 = 1313 | Ui = 1313 / 1537 = 0.8542615484710475 |\n",
            "| 4  | 1313 | Zi = (13 * 1313) mod 1537 = 162 | Ui = 162 / 1537 = 0.10540013012361743 |\n",
            "| 5  | 162  |  Zi = (13 * 162) mod 1537 = 569 | Ui = 569 / 1537 = 0.37020169160702665 |\n",
            "| 6  | 569  | Zi = (13 * 569) mod 1537 = 1249 | Ui = 1249 / 1537 = 0.8126219908913468 |\n",
            "| 7  | 1249 | Zi = (13 * 1249) mod 1537 = 867 |  Ui = 867 / 1537 = 0.5640858815875082 |\n",
            "| 8  | 867  |  Zi = (13 * 867) mod 1537 = 512 | Ui = 512 / 1537 = 0.33311646063760575 |\n",
            "| 9  | 512  |  Zi = (13 * 512) mod 1537 = 508 |  Ui = 508 / 1537 = 0.3305139882888744 |\n",
            "| 10 | 508  |  Zi = (13 * 508) mod 1537 = 456 |  Ui = 456 / 1537 = 0.2966818477553676 |\n",
            "+----+------+---------------------------------+---------------------------------------+\n"
          ]
        }
      ]
    },
    {
      "cell_type": "code",
      "source": [
        "import numpy as np\n",
        "import pandas as pd\n",
        "\n",
        "def MRNG(a, m, z0):\n",
        "  while True:\n",
        "    z0 = (a * z0) % m\n",
        "    yield z0 / m\n",
        "\n",
        "def appendDictToDF(df,dictToAppend):\n",
        "  df = pd.concat([df, pd.DataFrame.from_records([dictToAppend])], ignore_index=True)\n",
        "  return df\n",
        "\n",
        "def main():\n",
        "  a = 13\n",
        "  m = 1537\n",
        "  z0 = 1192\n",
        "  generator = MRNG(a, m, z0)\n",
        "  df = pd.DataFrame(columns=['Ui'])\n",
        "  for i in range(10):\n",
        "    ui = next(generator)\n",
        "    df= appendDictToDF(df,{'Ui': ui})\n",
        "\n",
        "  df['Ui 1'] = df['Ui'] * 100\n",
        "  df['Ui 1'] = df['Ui 1'].round().astype(int)\n",
        "  print(df)\n",
        "\n",
        "if __name__ == \"__main__\":\n",
        "  main()"
      ],
      "metadata": {
        "colab": {
          "base_uri": "https://localhost:8080/"
        },
        "id": "Wu5Ga-uscDYa",
        "outputId": "1a844c67-f579-4c6d-a77d-a2e1f339f3d0"
      },
      "execution_count": null,
      "outputs": [
        {
          "output_type": "stream",
          "name": "stdout",
          "text": [
            "         Ui  Ui 1\n",
            "0  0.081978     8\n",
            "1  0.065712     7\n",
            "2  0.854262    85\n",
            "3  0.105400    11\n",
            "4  0.370202    37\n",
            "5  0.812622    81\n",
            "6  0.564086    56\n",
            "7  0.333116    33\n",
            "8  0.330514    33\n",
            "9  0.296682    30\n"
          ]
        }
      ]
    },
    {
      "cell_type": "code",
      "source": [
        "import pandas as pd\n",
        "import numpy as np\n",
        "import matplotlib.pyplot as plt\n",
        "\n",
        "item_dibeli = np.array([2, 2, 3, 2, 3,\n",
        "                        3, 2, 3, 3, 4])\n",
        "\n",
        "df = pd.DataFrame(data=item_dibeli, columns=['Jumlah Item Dibeli'])\n",
        "df['Total'] = df['Jumlah Item Dibeli'].sum()\n",
        "df['Rata-Rata'] = df['Total'] / 10\n",
        "df['Rata-Rata Bulat'] = df['Rata-Rata'].round().astype(int)\n",
        "print(df)"
      ],
      "metadata": {
        "colab": {
          "base_uri": "https://localhost:8080/"
        },
        "id": "l3HiteeagSL6",
        "outputId": "8197f771-1f4c-426f-e9bf-7b58b2ff9bff"
      },
      "execution_count": null,
      "outputs": [
        {
          "output_type": "stream",
          "name": "stdout",
          "text": [
            "   Jumlah Item Dibeli  Total  Rata-Rata  Rata-Rata Bulat\n",
            "0                   2     27      2.700                3\n",
            "1                   2     27      2.700                3\n",
            "2                   3     27      2.700                3\n",
            "3                   2     27      2.700                3\n",
            "4                   3     27      2.700                3\n",
            "5                   3     27      2.700                3\n",
            "6                   2     27      2.700                3\n",
            "7                   3     27      2.700                3\n",
            "8                   3     27      2.700                3\n",
            "9                   4     27      2.700                3\n"
          ]
        }
      ]
    }
  ]
}